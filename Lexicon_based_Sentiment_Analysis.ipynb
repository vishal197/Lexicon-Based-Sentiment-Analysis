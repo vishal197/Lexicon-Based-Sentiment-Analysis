{
  "cells": [
    {
      "cell_type": "markdown",
      "metadata": {
        "id": "mREb-RqNIkbH"
      },
      "source": [
        "## Code 1 to Code 9"
      ]
    },
    {
      "cell_type": "code",
      "execution_count": null,
      "metadata": {
        "id": "KaDHmL8dIkbL",
        "outputId": "cef956ac-1517-4684-a1dd-f8a2377c9bc0"
      },
      "outputs": [
        {
          "name": "stderr",
          "output_type": "stream",
          "text": [
            "C:\\Users\\mhabayeb\\Anaconda3\\envs\\tf\\lib\\runpy.py:125: RuntimeWarning: 'nltk.downloader' found in sys.modules after import of package 'nltk', but prior to execution of 'nltk.downloader'; this may result in unpredictable behaviour\n",
            "  warn(RuntimeWarning(msg))\n",
            "[nltk_data] Downloading package stopwords to\n",
            "[nltk_data]     C:\\Users\\mhabayeb\\AppData\\Roaming\\nltk_data...\n",
            "[nltk_data]   Package stopwords is already up-to-date!\n"
          ]
        }
      ],
      "source": [
        "import pandas as pd\n",
        "#import stop_words\n",
        "import re\n",
        "!python -m nltk.downloader stopwords\n",
        "from nltk.tokenize import sent_tokenize\n",
        "#nltk.download('stopwords')"
      ]
    },
    {
      "cell_type": "code",
      "execution_count": null,
      "metadata": {
        "id": "bxcMv8OuIkbM"
      },
      "outputs": [],
      "source": [
        "t1 = pd.read_csv(\"Reviews.csv\")"
      ]
    },
    {
      "cell_type": "code",
      "execution_count": null,
      "metadata": {
        "id": "36clC0RjIkbN",
        "outputId": "166e372f-5eb7-4697-9916-bafe7145fea2"
      },
      "outputs": [
        {
          "data": {
            "text/plain": [
              "(568454, 10)"
            ]
          },
          "execution_count": 24,
          "metadata": {},
          "output_type": "execute_result"
        }
      ],
      "source": [
        "t1.shape"
      ]
    },
    {
      "cell_type": "code",
      "execution_count": null,
      "metadata": {
        "id": "-u6edvZqIkbN",
        "outputId": "530942d3-3187-4533-cb5a-1e5dc89b5473"
      },
      "outputs": [
        {
          "data": {
            "text/html": [
              "<div>\n",
              "<style scoped>\n",
              "    .dataframe tbody tr th:only-of-type {\n",
              "        vertical-align: middle;\n",
              "    }\n",
              "\n",
              "    .dataframe tbody tr th {\n",
              "        vertical-align: top;\n",
              "    }\n",
              "\n",
              "    .dataframe thead th {\n",
              "        text-align: right;\n",
              "    }\n",
              "</style>\n",
              "<table border=\"1\" class=\"dataframe\">\n",
              "  <thead>\n",
              "    <tr style=\"text-align: right;\">\n",
              "      <th></th>\n",
              "      <th>Id</th>\n",
              "      <th>ProductId</th>\n",
              "      <th>UserId</th>\n",
              "      <th>ProfileName</th>\n",
              "      <th>HelpfulnessNumerator</th>\n",
              "      <th>HelpfulnessDenominator</th>\n",
              "      <th>Score</th>\n",
              "      <th>Time</th>\n",
              "      <th>Summary</th>\n",
              "      <th>Text</th>\n",
              "    </tr>\n",
              "  </thead>\n",
              "  <tbody>\n",
              "    <tr>\n",
              "      <th>0</th>\n",
              "      <td>1</td>\n",
              "      <td>B001E4KFG0</td>\n",
              "      <td>A3SGXH7AUHU8GW</td>\n",
              "      <td>delmartian</td>\n",
              "      <td>1</td>\n",
              "      <td>1</td>\n",
              "      <td>5</td>\n",
              "      <td>1303862400</td>\n",
              "      <td>Good Quality Dog Food</td>\n",
              "      <td>I have bought several of the Vitality canned dog food products and have found them all to be of good quality. The product looks more like a stew than a processed meat and it smells better. My Labrador is finicky and she appreciates this product better than  most.</td>\n",
              "    </tr>\n",
              "    <tr>\n",
              "      <th>1</th>\n",
              "      <td>2</td>\n",
              "      <td>B00813GRG4</td>\n",
              "      <td>A1D87F6ZCVE5NK</td>\n",
              "      <td>dll pa</td>\n",
              "      <td>0</td>\n",
              "      <td>0</td>\n",
              "      <td>1</td>\n",
              "      <td>1346976000</td>\n",
              "      <td>Not as Advertised</td>\n",
              "      <td>Product arrived labeled as Jumbo Salted Peanuts...the peanuts were actually small sized unsalted. Not sure if this was an error or if the vendor intended to represent the product as \"Jumbo\".</td>\n",
              "    </tr>\n",
              "    <tr>\n",
              "      <th>2</th>\n",
              "      <td>3</td>\n",
              "      <td>B000LQOCH0</td>\n",
              "      <td>ABXLMWJIXXAIN</td>\n",
              "      <td>Natalia Corres \"Natalia Corres\"</td>\n",
              "      <td>1</td>\n",
              "      <td>1</td>\n",
              "      <td>4</td>\n",
              "      <td>1219017600</td>\n",
              "      <td>\"Delight\" says it all</td>\n",
              "      <td>This is a confection that has been around a few centuries.  It is a light, pillowy citrus gelatin with nuts - in this case Filberts. And it is cut into tiny squares and then liberally coated with powdered sugar.  And it is a tiny mouthful of heaven.  Not too chewy, and very flavorful.  I highly recommend this yummy treat.  If you are familiar with the story of C.S. Lewis' \"The Lion, The Witch, and The Wardrobe\" - this is the treat that seduces Edmund into selling out his Brother and Sisters to the Witch.</td>\n",
              "    </tr>\n",
              "    <tr>\n",
              "      <th>3</th>\n",
              "      <td>4</td>\n",
              "      <td>B000UA0QIQ</td>\n",
              "      <td>A395BORC6FGVXV</td>\n",
              "      <td>Karl</td>\n",
              "      <td>3</td>\n",
              "      <td>3</td>\n",
              "      <td>2</td>\n",
              "      <td>1307923200</td>\n",
              "      <td>Cough Medicine</td>\n",
              "      <td>If you are looking for the secret ingredient in Robitussin I believe I have found it.  I got this in addition to the Root Beer Extract I ordered (which was good) and made some cherry soda.  The flavor is very medicinal.</td>\n",
              "    </tr>\n",
              "    <tr>\n",
              "      <th>4</th>\n",
              "      <td>5</td>\n",
              "      <td>B006K2ZZ7K</td>\n",
              "      <td>A1UQRSCLF8GW1T</td>\n",
              "      <td>Michael D. Bigham \"M. Wassir\"</td>\n",
              "      <td>0</td>\n",
              "      <td>0</td>\n",
              "      <td>5</td>\n",
              "      <td>1350777600</td>\n",
              "      <td>Great taffy</td>\n",
              "      <td>Great taffy at a great price.  There was a wide assortment of yummy taffy.  Delivery was very quick.  If your a taffy lover, this is a deal.</td>\n",
              "    </tr>\n",
              "  </tbody>\n",
              "</table>\n",
              "</div>"
            ],
            "text/plain": [
              "   Id   ProductId          UserId                      ProfileName  \\\n",
              "0   1  B001E4KFG0  A3SGXH7AUHU8GW                       delmartian   \n",
              "1   2  B00813GRG4  A1D87F6ZCVE5NK                           dll pa   \n",
              "2   3  B000LQOCH0   ABXLMWJIXXAIN  Natalia Corres \"Natalia Corres\"   \n",
              "3   4  B000UA0QIQ  A395BORC6FGVXV                             Karl   \n",
              "4   5  B006K2ZZ7K  A1UQRSCLF8GW1T    Michael D. Bigham \"M. Wassir\"   \n",
              "\n",
              "   HelpfulnessNumerator  HelpfulnessDenominator  Score        Time  \\\n",
              "0                     1                       1      5  1303862400   \n",
              "1                     0                       0      1  1346976000   \n",
              "2                     1                       1      4  1219017600   \n",
              "3                     3                       3      2  1307923200   \n",
              "4                     0                       0      5  1350777600   \n",
              "\n",
              "                 Summary  \\\n",
              "0  Good Quality Dog Food   \n",
              "1      Not as Advertised   \n",
              "2  \"Delight\" says it all   \n",
              "3         Cough Medicine   \n",
              "4            Great taffy   \n",
              "\n",
              "                                                                                                                                                                                                                                                                                                                                                                                                                                                                                                                            Text  \n",
              "0                                                                                                                                                                                                                                                        I have bought several of the Vitality canned dog food products and have found them all to be of good quality. The product looks more like a stew than a processed meat and it smells better. My Labrador is finicky and she appreciates this product better than  most.  \n",
              "1                                                                                                                                                                                                                                                                                                                                 Product arrived labeled as Jumbo Salted Peanuts...the peanuts were actually small sized unsalted. Not sure if this was an error or if the vendor intended to represent the product as \"Jumbo\".  \n",
              "2  This is a confection that has been around a few centuries.  It is a light, pillowy citrus gelatin with nuts - in this case Filberts. And it is cut into tiny squares and then liberally coated with powdered sugar.  And it is a tiny mouthful of heaven.  Not too chewy, and very flavorful.  I highly recommend this yummy treat.  If you are familiar with the story of C.S. Lewis' \"The Lion, The Witch, and The Wardrobe\" - this is the treat that seduces Edmund into selling out his Brother and Sisters to the Witch.  \n",
              "3                                                                                                                                                                                                                                                                                                    If you are looking for the secret ingredient in Robitussin I believe I have found it.  I got this in addition to the Root Beer Extract I ordered (which was good) and made some cherry soda.  The flavor is very medicinal.  \n",
              "4                                                                                                                                                                                                                                                                                                                                                                                   Great taffy at a great price.  There was a wide assortment of yummy taffy.  Delivery was very quick.  If your a taffy lover, this is a deal.  "
            ]
          },
          "execution_count": 25,
          "metadata": {},
          "output_type": "execute_result"
        }
      ],
      "source": [
        "t1.head()"
      ]
    },
    {
      "cell_type": "code",
      "execution_count": null,
      "metadata": {
        "id": "sAHUZdNYIkbO",
        "outputId": "90f2552f-11dd-47c0-8c63-aea1431e478c"
      },
      "outputs": [
        {
          "name": "stdout",
          "output_type": "stream",
          "text": [
            "<class 'pandas.core.frame.DataFrame'>\n",
            "RangeIndex: 568454 entries, 0 to 568453\n",
            "Data columns (total 10 columns):\n",
            " #   Column                  Non-Null Count   Dtype \n",
            "---  ------                  --------------   ----- \n",
            " 0   Id                      568454 non-null  int64 \n",
            " 1   ProductId               568454 non-null  object\n",
            " 2   UserId                  568454 non-null  object\n",
            " 3   ProfileName             568438 non-null  object\n",
            " 4   HelpfulnessNumerator    568454 non-null  int64 \n",
            " 5   HelpfulnessDenominator  568454 non-null  int64 \n",
            " 6   Score                   568454 non-null  int64 \n",
            " 7   Time                    568454 non-null  int64 \n",
            " 8   Summary                 568427 non-null  object\n",
            " 9   Text                    568454 non-null  object\n",
            "dtypes: int64(5), object(5)\n",
            "memory usage: 43.4+ MB\n",
            "None\n"
          ]
        }
      ],
      "source": [
        "print(t1.info())"
      ]
    },
    {
      "cell_type": "code",
      "execution_count": null,
      "metadata": {
        "id": "QOe-4IPGIkbO",
        "outputId": "b0246dc4-2e9b-46ee-a9fd-15d5fcbd3be4"
      },
      "outputs": [
        {
          "data": {
            "text/plain": [
              "5    363122\n",
              "4     80655\n",
              "1     52268\n",
              "3     42640\n",
              "2     29769\n",
              "Name: Score, dtype: int64"
            ]
          },
          "execution_count": 41,
          "metadata": {},
          "output_type": "execute_result"
        }
      ],
      "source": [
        "# Let us look at the score, we will usethe score to understand and measure the accuracy of the lexicon-based approach.\n",
        "t1[\"Score\"].value_counts()"
      ]
    },
    {
      "cell_type": "code",
      "execution_count": null,
      "metadata": {
        "id": "h4aXxDwPIkbP",
        "outputId": "6d6e95d3-7386-4a1a-e26c-bfb19775488b"
      },
      "outputs": [
        {
          "name": "stdout",
          "output_type": "stream",
          "text": [
            "2006\n",
            "4783\n"
          ]
        }
      ],
      "source": [
        "pos1 = pd.read_csv(\"positive-words.txt\",sep=\"\\t\",encoding='latin1',header=None)\n",
        "neg1 = pd.read_csv(\"negative-words.txt\",sep=\"\\t\",encoding='latin1',header=None)\n",
        "\n",
        "pos1.columns = [\"words\"]\n",
        "neg1.columns = [\"words\"]\n",
        "\n",
        "pos_set = set(list(pos1[\"words\"]))\n",
        "neg_set = set(list(neg1[\"words\"]))\n",
        "print (len(pos_set))\n",
        "print (len(neg_set))"
      ]
    },
    {
      "cell_type": "code",
      "execution_count": null,
      "metadata": {
        "id": "_6trJDVDIkbP"
      },
      "outputs": [],
      "source": [
        "# In our “t1” dataset we have 2 columns of text - “Text” and “Summary”. \n",
        "# We would now combine them and process them into a single column. \n",
        "# It is this column that would go through the lexicon mining"
      ]
    },
    {
      "cell_type": "code",
      "execution_count": null,
      "metadata": {
        "id": "TpIlvLmUIkbQ"
      },
      "outputs": [],
      "source": [
        "t1[\"full_txt\"] = t1[\"Summary\"] + \" \" + t1[\"Text\"]\n",
        "t1[\"full_txt\"] = t1[\"full_txt\"].str.lower()\n",
        "t1[\"sent_len\"] = t1[\"full_txt\"].str.count(\" \") + 1\n"
      ]
    },
    {
      "cell_type": "code",
      "execution_count": null,
      "metadata": {
        "id": "jGObD4YeIkbQ",
        "outputId": "059c2c4c-1eed-4850-d3ba-bc50c87f4a2a"
      },
      "outputs": [
        {
          "data": {
            "text/html": [
              "<div>\n",
              "<style scoped>\n",
              "    .dataframe tbody tr th:only-of-type {\n",
              "        vertical-align: middle;\n",
              "    }\n",
              "\n",
              "    .dataframe tbody tr th {\n",
              "        vertical-align: top;\n",
              "    }\n",
              "\n",
              "    .dataframe thead th {\n",
              "        text-align: right;\n",
              "    }\n",
              "</style>\n",
              "<table border=\"1\" class=\"dataframe\">\n",
              "  <thead>\n",
              "    <tr style=\"text-align: right;\">\n",
              "      <th></th>\n",
              "      <th>Id</th>\n",
              "      <th>ProductId</th>\n",
              "      <th>UserId</th>\n",
              "      <th>ProfileName</th>\n",
              "      <th>HelpfulnessNumerator</th>\n",
              "      <th>HelpfulnessDenominator</th>\n",
              "      <th>Score</th>\n",
              "      <th>Time</th>\n",
              "      <th>Summary</th>\n",
              "      <th>Text</th>\n",
              "      <th>full_txt</th>\n",
              "      <th>sent_len</th>\n",
              "    </tr>\n",
              "  </thead>\n",
              "  <tbody>\n",
              "    <tr>\n",
              "      <th>0</th>\n",
              "      <td>1</td>\n",
              "      <td>B001E4KFG0</td>\n",
              "      <td>A3SGXH7AUHU8GW</td>\n",
              "      <td>delmartian</td>\n",
              "      <td>1</td>\n",
              "      <td>1</td>\n",
              "      <td>5</td>\n",
              "      <td>1303862400</td>\n",
              "      <td>Good Quality Dog Food</td>\n",
              "      <td>I have bought several of the Vitality canned dog food products and have found them all to be of good quality. The product looks more like a stew than a processed meat and it smells better. My Labrador is finicky and she appreciates this product better than  most.</td>\n",
              "      <td>good quality dog food i have bought several of the vitality canned dog food products and have found them all to be of good quality. the product looks more like a stew than a processed meat and it smells better. my labrador is finicky and she appreciates this product better than  most.</td>\n",
              "      <td>53.0</td>\n",
              "    </tr>\n",
              "    <tr>\n",
              "      <th>1</th>\n",
              "      <td>2</td>\n",
              "      <td>B00813GRG4</td>\n",
              "      <td>A1D87F6ZCVE5NK</td>\n",
              "      <td>dll pa</td>\n",
              "      <td>0</td>\n",
              "      <td>0</td>\n",
              "      <td>1</td>\n",
              "      <td>1346976000</td>\n",
              "      <td>Not as Advertised</td>\n",
              "      <td>Product arrived labeled as Jumbo Salted Peanuts...the peanuts were actually small sized unsalted. Not sure if this was an error or if the vendor intended to represent the product as \"Jumbo\".</td>\n",
              "      <td>not as advertised product arrived labeled as jumbo salted peanuts...the peanuts were actually small sized unsalted. not sure if this was an error or if the vendor intended to represent the product as \"jumbo\".</td>\n",
              "      <td>34.0</td>\n",
              "    </tr>\n",
              "    <tr>\n",
              "      <th>2</th>\n",
              "      <td>3</td>\n",
              "      <td>B000LQOCH0</td>\n",
              "      <td>ABXLMWJIXXAIN</td>\n",
              "      <td>Natalia Corres \"Natalia Corres\"</td>\n",
              "      <td>1</td>\n",
              "      <td>1</td>\n",
              "      <td>4</td>\n",
              "      <td>1219017600</td>\n",
              "      <td>\"Delight\" says it all</td>\n",
              "      <td>This is a confection that has been around a few centuries.  It is a light, pillowy citrus gelatin with nuts - in this case Filberts. And it is cut into tiny squares and then liberally coated with powdered sugar.  And it is a tiny mouthful of heaven.  Not too chewy, and very flavorful.  I highly recommend this yummy treat.  If you are familiar with the story of C.S. Lewis' \"The Lion, The Witch, and The Wardrobe\" - this is the treat that seduces Edmund into selling out his Brother and Sisters to the Witch.</td>\n",
              "      <td>\"delight\" says it all this is a confection that has been around a few centuries.  it is a light, pillowy citrus gelatin with nuts - in this case filberts. and it is cut into tiny squares and then liberally coated with powdered sugar.  and it is a tiny mouthful of heaven.  not too chewy, and very flavorful.  i highly recommend this yummy treat.  if you are familiar with the story of c.s. lewis' \"the lion, the witch, and the wardrobe\" - this is the treat that seduces edmund into selling out his brother and sisters to the witch.</td>\n",
              "      <td>103.0</td>\n",
              "    </tr>\n",
              "    <tr>\n",
              "      <th>3</th>\n",
              "      <td>4</td>\n",
              "      <td>B000UA0QIQ</td>\n",
              "      <td>A395BORC6FGVXV</td>\n",
              "      <td>Karl</td>\n",
              "      <td>3</td>\n",
              "      <td>3</td>\n",
              "      <td>2</td>\n",
              "      <td>1307923200</td>\n",
              "      <td>Cough Medicine</td>\n",
              "      <td>If you are looking for the secret ingredient in Robitussin I believe I have found it.  I got this in addition to the Root Beer Extract I ordered (which was good) and made some cherry soda.  The flavor is very medicinal.</td>\n",
              "      <td>cough medicine if you are looking for the secret ingredient in robitussin i believe i have found it.  i got this in addition to the root beer extract i ordered (which was good) and made some cherry soda.  the flavor is very medicinal.</td>\n",
              "      <td>45.0</td>\n",
              "    </tr>\n",
              "    <tr>\n",
              "      <th>4</th>\n",
              "      <td>5</td>\n",
              "      <td>B006K2ZZ7K</td>\n",
              "      <td>A1UQRSCLF8GW1T</td>\n",
              "      <td>Michael D. Bigham \"M. Wassir\"</td>\n",
              "      <td>0</td>\n",
              "      <td>0</td>\n",
              "      <td>5</td>\n",
              "      <td>1350777600</td>\n",
              "      <td>Great taffy</td>\n",
              "      <td>Great taffy at a great price.  There was a wide assortment of yummy taffy.  Delivery was very quick.  If your a taffy lover, this is a deal.</td>\n",
              "      <td>great taffy great taffy at a great price.  there was a wide assortment of yummy taffy.  delivery was very quick.  if your a taffy lover, this is a deal.</td>\n",
              "      <td>32.0</td>\n",
              "    </tr>\n",
              "  </tbody>\n",
              "</table>\n",
              "</div>"
            ],
            "text/plain": [
              "   Id   ProductId          UserId                      ProfileName  \\\n",
              "0   1  B001E4KFG0  A3SGXH7AUHU8GW                       delmartian   \n",
              "1   2  B00813GRG4  A1D87F6ZCVE5NK                           dll pa   \n",
              "2   3  B000LQOCH0   ABXLMWJIXXAIN  Natalia Corres \"Natalia Corres\"   \n",
              "3   4  B000UA0QIQ  A395BORC6FGVXV                             Karl   \n",
              "4   5  B006K2ZZ7K  A1UQRSCLF8GW1T    Michael D. Bigham \"M. Wassir\"   \n",
              "\n",
              "   HelpfulnessNumerator  HelpfulnessDenominator  Score        Time  \\\n",
              "0                     1                       1      5  1303862400   \n",
              "1                     0                       0      1  1346976000   \n",
              "2                     1                       1      4  1219017600   \n",
              "3                     3                       3      2  1307923200   \n",
              "4                     0                       0      5  1350777600   \n",
              "\n",
              "                 Summary  \\\n",
              "0  Good Quality Dog Food   \n",
              "1      Not as Advertised   \n",
              "2  \"Delight\" says it all   \n",
              "3         Cough Medicine   \n",
              "4            Great taffy   \n",
              "\n",
              "                                                                                                                                                                                                                                                                                                                                                                                                                                                                                                                            Text  \\\n",
              "0                                                                                                                                                                                                                                                        I have bought several of the Vitality canned dog food products and have found them all to be of good quality. The product looks more like a stew than a processed meat and it smells better. My Labrador is finicky and she appreciates this product better than  most.   \n",
              "1                                                                                                                                                                                                                                                                                                                                 Product arrived labeled as Jumbo Salted Peanuts...the peanuts were actually small sized unsalted. Not sure if this was an error or if the vendor intended to represent the product as \"Jumbo\".   \n",
              "2  This is a confection that has been around a few centuries.  It is a light, pillowy citrus gelatin with nuts - in this case Filberts. And it is cut into tiny squares and then liberally coated with powdered sugar.  And it is a tiny mouthful of heaven.  Not too chewy, and very flavorful.  I highly recommend this yummy treat.  If you are familiar with the story of C.S. Lewis' \"The Lion, The Witch, and The Wardrobe\" - this is the treat that seduces Edmund into selling out his Brother and Sisters to the Witch.   \n",
              "3                                                                                                                                                                                                                                                                                                    If you are looking for the secret ingredient in Robitussin I believe I have found it.  I got this in addition to the Root Beer Extract I ordered (which was good) and made some cherry soda.  The flavor is very medicinal.   \n",
              "4                                                                                                                                                                                                                                                                                                                                                                                   Great taffy at a great price.  There was a wide assortment of yummy taffy.  Delivery was very quick.  If your a taffy lover, this is a deal.   \n",
              "\n",
              "                                                                                                                                                                                                                                                                                                                                                                                                                                                                                                                                              full_txt  \\\n",
              "0                                                                                                                                                                                                                                                        good quality dog food i have bought several of the vitality canned dog food products and have found them all to be of good quality. the product looks more like a stew than a processed meat and it smells better. my labrador is finicky and she appreciates this product better than  most.   \n",
              "1                                                                                                                                                                                                                                                                                                                                     not as advertised product arrived labeled as jumbo salted peanuts...the peanuts were actually small sized unsalted. not sure if this was an error or if the vendor intended to represent the product as \"jumbo\".   \n",
              "2  \"delight\" says it all this is a confection that has been around a few centuries.  it is a light, pillowy citrus gelatin with nuts - in this case filberts. and it is cut into tiny squares and then liberally coated with powdered sugar.  and it is a tiny mouthful of heaven.  not too chewy, and very flavorful.  i highly recommend this yummy treat.  if you are familiar with the story of c.s. lewis' \"the lion, the witch, and the wardrobe\" - this is the treat that seduces edmund into selling out his brother and sisters to the witch.   \n",
              "3                                                                                                                                                                                                                                                                                                           cough medicine if you are looking for the secret ingredient in robitussin i believe i have found it.  i got this in addition to the root beer extract i ordered (which was good) and made some cherry soda.  the flavor is very medicinal.   \n",
              "4                                                                                                                                                                                                                                                                                                                                                                                             great taffy great taffy at a great price.  there was a wide assortment of yummy taffy.  delivery was very quick.  if your a taffy lover, this is a deal.   \n",
              "\n",
              "   sent_len  \n",
              "0      53.0  \n",
              "1      34.0  \n",
              "2     103.0  \n",
              "3      45.0  \n",
              "4      32.0  "
            ]
          },
          "execution_count": 29,
          "metadata": {},
          "output_type": "execute_result"
        }
      ],
      "source": [
        "t1.head(5)"
      ]
    },
    {
      "cell_type": "code",
      "execution_count": null,
      "metadata": {
        "id": "uDN8fi9DIkbQ"
      },
      "outputs": [],
      "source": [
        "#Exclude empty rows"
      ]
    },
    {
      "cell_type": "code",
      "execution_count": null,
      "metadata": {
        "id": "Kzsp42QjIkbR",
        "outputId": "537db073-e838-451b-ca43-c045a822709f"
      },
      "outputs": [
        {
          "data": {
            "text/plain": [
              "(568454, 568427)"
            ]
          },
          "execution_count": 30,
          "metadata": {},
          "output_type": "execute_result"
        }
      ],
      "source": [
        "t2 = t1[t1.sent_len>=1]\n",
        "len(t1),len(t2)"
      ]
    },
    {
      "cell_type": "code",
      "execution_count": null,
      "metadata": {
        "id": "gDINtHCVIkbR",
        "outputId": "798ec69f-56b4-4f72-fbc6-97770bec07c4"
      },
      "outputs": [
        {
          "name": "stderr",
          "output_type": "stream",
          "text": [
            "C:\\Users\\mhabayeb\\Anaconda3\\envs\\tf\\lib\\site-packages\\pandas\\core\\indexing.py:1817: SettingWithCopyWarning: \n",
            "A value is trying to be set on a copy of a slice from a DataFrame.\n",
            "Try using .loc[row_indexer,col_indexer] = value instead\n",
            "\n",
            "See the caveats in the documentation: https://pandas.pydata.org/pandas-docs/stable/user_guide/indexing.html#returning-a-view-versus-a-copy\n",
            "  self._setitem_single_column(loc, value, pi)\n"
          ]
        },
        {
          "data": {
            "text/html": [
              "<div>\n",
              "<style scoped>\n",
              "    .dataframe tbody tr th:only-of-type {\n",
              "        vertical-align: middle;\n",
              "    }\n",
              "\n",
              "    .dataframe tbody tr th {\n",
              "        vertical-align: top;\n",
              "    }\n",
              "\n",
              "    .dataframe thead th {\n",
              "        text-align: right;\n",
              "    }\n",
              "</style>\n",
              "<table border=\"1\" class=\"dataframe\">\n",
              "  <thead>\n",
              "    <tr style=\"text-align: right;\">\n",
              "      <th></th>\n",
              "      <th>Id</th>\n",
              "      <th>ProductId</th>\n",
              "      <th>UserId</th>\n",
              "      <th>ProfileName</th>\n",
              "      <th>HelpfulnessNumerator</th>\n",
              "      <th>HelpfulnessDenominator</th>\n",
              "      <th>Score</th>\n",
              "      <th>Time</th>\n",
              "      <th>Summary</th>\n",
              "      <th>Text</th>\n",
              "      <th>full_txt</th>\n",
              "      <th>sent_len</th>\n",
              "      <th>score_bkt</th>\n",
              "    </tr>\n",
              "  </thead>\n",
              "  <tbody>\n",
              "    <tr>\n",
              "      <th>0</th>\n",
              "      <td>1</td>\n",
              "      <td>B001E4KFG0</td>\n",
              "      <td>A3SGXH7AUHU8GW</td>\n",
              "      <td>delmartian</td>\n",
              "      <td>1</td>\n",
              "      <td>1</td>\n",
              "      <td>5</td>\n",
              "      <td>1303862400</td>\n",
              "      <td>Good Quality Dog Food</td>\n",
              "      <td>I have bought several of the Vitality canned dog food products and have found them all to be of good quality. The product looks more like a stew than a processed meat and it smells better. My Labrador is finicky and she appreciates this product better than  most.</td>\n",
              "      <td>good quality dog food i have bought several of the vitality canned dog food products and have found them all to be of good quality. the product looks more like a stew than a processed meat and it smells better. my labrador is finicky and she appreciates this product better than  most.</td>\n",
              "      <td>53.0</td>\n",
              "      <td>pos</td>\n",
              "    </tr>\n",
              "    <tr>\n",
              "      <th>1</th>\n",
              "      <td>2</td>\n",
              "      <td>B00813GRG4</td>\n",
              "      <td>A1D87F6ZCVE5NK</td>\n",
              "      <td>dll pa</td>\n",
              "      <td>0</td>\n",
              "      <td>0</td>\n",
              "      <td>1</td>\n",
              "      <td>1346976000</td>\n",
              "      <td>Not as Advertised</td>\n",
              "      <td>Product arrived labeled as Jumbo Salted Peanuts...the peanuts were actually small sized unsalted. Not sure if this was an error or if the vendor intended to represent the product as \"Jumbo\".</td>\n",
              "      <td>not as advertised product arrived labeled as jumbo salted peanuts...the peanuts were actually small sized unsalted. not sure if this was an error or if the vendor intended to represent the product as \"jumbo\".</td>\n",
              "      <td>34.0</td>\n",
              "      <td>neg</td>\n",
              "    </tr>\n",
              "    <tr>\n",
              "      <th>2</th>\n",
              "      <td>3</td>\n",
              "      <td>B000LQOCH0</td>\n",
              "      <td>ABXLMWJIXXAIN</td>\n",
              "      <td>Natalia Corres \"Natalia Corres\"</td>\n",
              "      <td>1</td>\n",
              "      <td>1</td>\n",
              "      <td>4</td>\n",
              "      <td>1219017600</td>\n",
              "      <td>\"Delight\" says it all</td>\n",
              "      <td>This is a confection that has been around a few centuries.  It is a light, pillowy citrus gelatin with nuts - in this case Filberts. And it is cut into tiny squares and then liberally coated with powdered sugar.  And it is a tiny mouthful of heaven.  Not too chewy, and very flavorful.  I highly recommend this yummy treat.  If you are familiar with the story of C.S. Lewis' \"The Lion, The Witch, and The Wardrobe\" - this is the treat that seduces Edmund into selling out his Brother and Sisters to the Witch.</td>\n",
              "      <td>\"delight\" says it all this is a confection that has been around a few centuries.  it is a light, pillowy citrus gelatin with nuts - in this case filberts. and it is cut into tiny squares and then liberally coated with powdered sugar.  and it is a tiny mouthful of heaven.  not too chewy, and very flavorful.  i highly recommend this yummy treat.  if you are familiar with the story of c.s. lewis' \"the lion, the witch, and the wardrobe\" - this is the treat that seduces edmund into selling out his brother and sisters to the witch.</td>\n",
              "      <td>103.0</td>\n",
              "      <td>pos</td>\n",
              "    </tr>\n",
              "    <tr>\n",
              "      <th>3</th>\n",
              "      <td>4</td>\n",
              "      <td>B000UA0QIQ</td>\n",
              "      <td>A395BORC6FGVXV</td>\n",
              "      <td>Karl</td>\n",
              "      <td>3</td>\n",
              "      <td>3</td>\n",
              "      <td>2</td>\n",
              "      <td>1307923200</td>\n",
              "      <td>Cough Medicine</td>\n",
              "      <td>If you are looking for the secret ingredient in Robitussin I believe I have found it.  I got this in addition to the Root Beer Extract I ordered (which was good) and made some cherry soda.  The flavor is very medicinal.</td>\n",
              "      <td>cough medicine if you are looking for the secret ingredient in robitussin i believe i have found it.  i got this in addition to the root beer extract i ordered (which was good) and made some cherry soda.  the flavor is very medicinal.</td>\n",
              "      <td>45.0</td>\n",
              "      <td>neg</td>\n",
              "    </tr>\n",
              "    <tr>\n",
              "      <th>4</th>\n",
              "      <td>5</td>\n",
              "      <td>B006K2ZZ7K</td>\n",
              "      <td>A1UQRSCLF8GW1T</td>\n",
              "      <td>Michael D. Bigham \"M. Wassir\"</td>\n",
              "      <td>0</td>\n",
              "      <td>0</td>\n",
              "      <td>5</td>\n",
              "      <td>1350777600</td>\n",
              "      <td>Great taffy</td>\n",
              "      <td>Great taffy at a great price.  There was a wide assortment of yummy taffy.  Delivery was very quick.  If your a taffy lover, this is a deal.</td>\n",
              "      <td>great taffy great taffy at a great price.  there was a wide assortment of yummy taffy.  delivery was very quick.  if your a taffy lover, this is a deal.</td>\n",
              "      <td>32.0</td>\n",
              "      <td>pos</td>\n",
              "    </tr>\n",
              "  </tbody>\n",
              "</table>\n",
              "</div>"
            ],
            "text/plain": [
              "   Id   ProductId          UserId                      ProfileName  \\\n",
              "0   1  B001E4KFG0  A3SGXH7AUHU8GW                       delmartian   \n",
              "1   2  B00813GRG4  A1D87F6ZCVE5NK                           dll pa   \n",
              "2   3  B000LQOCH0   ABXLMWJIXXAIN  Natalia Corres \"Natalia Corres\"   \n",
              "3   4  B000UA0QIQ  A395BORC6FGVXV                             Karl   \n",
              "4   5  B006K2ZZ7K  A1UQRSCLF8GW1T    Michael D. Bigham \"M. Wassir\"   \n",
              "\n",
              "   HelpfulnessNumerator  HelpfulnessDenominator  Score        Time  \\\n",
              "0                     1                       1      5  1303862400   \n",
              "1                     0                       0      1  1346976000   \n",
              "2                     1                       1      4  1219017600   \n",
              "3                     3                       3      2  1307923200   \n",
              "4                     0                       0      5  1350777600   \n",
              "\n",
              "                 Summary  \\\n",
              "0  Good Quality Dog Food   \n",
              "1      Not as Advertised   \n",
              "2  \"Delight\" says it all   \n",
              "3         Cough Medicine   \n",
              "4            Great taffy   \n",
              "\n",
              "                                                                                                                                                                                                                                                                                                                                                                                                                                                                                                                            Text  \\\n",
              "0                                                                                                                                                                                                                                                        I have bought several of the Vitality canned dog food products and have found them all to be of good quality. The product looks more like a stew than a processed meat and it smells better. My Labrador is finicky and she appreciates this product better than  most.   \n",
              "1                                                                                                                                                                                                                                                                                                                                 Product arrived labeled as Jumbo Salted Peanuts...the peanuts were actually small sized unsalted. Not sure if this was an error or if the vendor intended to represent the product as \"Jumbo\".   \n",
              "2  This is a confection that has been around a few centuries.  It is a light, pillowy citrus gelatin with nuts - in this case Filberts. And it is cut into tiny squares and then liberally coated with powdered sugar.  And it is a tiny mouthful of heaven.  Not too chewy, and very flavorful.  I highly recommend this yummy treat.  If you are familiar with the story of C.S. Lewis' \"The Lion, The Witch, and The Wardrobe\" - this is the treat that seduces Edmund into selling out his Brother and Sisters to the Witch.   \n",
              "3                                                                                                                                                                                                                                                                                                    If you are looking for the secret ingredient in Robitussin I believe I have found it.  I got this in addition to the Root Beer Extract I ordered (which was good) and made some cherry soda.  The flavor is very medicinal.   \n",
              "4                                                                                                                                                                                                                                                                                                                                                                                   Great taffy at a great price.  There was a wide assortment of yummy taffy.  Delivery was very quick.  If your a taffy lover, this is a deal.   \n",
              "\n",
              "                                                                                                                                                                                                                                                                                                                                                                                                                                                                                                                                              full_txt  \\\n",
              "0                                                                                                                                                                                                                                                        good quality dog food i have bought several of the vitality canned dog food products and have found them all to be of good quality. the product looks more like a stew than a processed meat and it smells better. my labrador is finicky and she appreciates this product better than  most.   \n",
              "1                                                                                                                                                                                                                                                                                                                                     not as advertised product arrived labeled as jumbo salted peanuts...the peanuts were actually small sized unsalted. not sure if this was an error or if the vendor intended to represent the product as \"jumbo\".   \n",
              "2  \"delight\" says it all this is a confection that has been around a few centuries.  it is a light, pillowy citrus gelatin with nuts - in this case filberts. and it is cut into tiny squares and then liberally coated with powdered sugar.  and it is a tiny mouthful of heaven.  not too chewy, and very flavorful.  i highly recommend this yummy treat.  if you are familiar with the story of c.s. lewis' \"the lion, the witch, and the wardrobe\" - this is the treat that seduces edmund into selling out his brother and sisters to the witch.   \n",
              "3                                                                                                                                                                                                                                                                                                           cough medicine if you are looking for the secret ingredient in robitussin i believe i have found it.  i got this in addition to the root beer extract i ordered (which was good) and made some cherry soda.  the flavor is very medicinal.   \n",
              "4                                                                                                                                                                                                                                                                                                                                                                                             great taffy great taffy at a great price.  there was a wide assortment of yummy taffy.  delivery was very quick.  if your a taffy lover, this is a deal.   \n",
              "\n",
              "   sent_len score_bkt  \n",
              "0      53.0       pos  \n",
              "1      34.0       neg  \n",
              "2     103.0       pos  \n",
              "3      45.0       neg  \n",
              "4      32.0       pos  "
            ]
          },
          "execution_count": 46,
          "metadata": {},
          "output_type": "execute_result"
        }
      ],
      "source": [
        "##for meausring accuracy Set all to neutral then set ant score =4 and above to  positve and any score less than =2 to negative\n",
        "#t2[\"score_bkt\"]=\"neu\"\n",
        "t2.loc[:,\"score_bkt\"]=\"neu\"\n",
        "t2.loc[t2.Score>=4,\"score_bkt\"] = \"pos\"\n",
        "t2.loc[t2.Score<=2,\"score_bkt\"] = \"neg\"\n",
        "t2.head()"
      ]
    },
    {
      "cell_type": "code",
      "execution_count": null,
      "metadata": {
        "id": "UPpeSTboIkbR",
        "outputId": "06f7dd3f-63ad-453a-936d-dd55d79d0d39"
      },
      "outputs": [
        {
          "data": {
            "text/plain": [
              "(568427, 56843)"
            ]
          },
          "execution_count": 11,
          "metadata": {},
          "output_type": "execute_result"
        }
      ],
      "source": [
        "#take a sample of 10%\n",
        "t3 = t2.sample(frac=0.1)\n",
        "len(t2),len(t3)"
      ]
    },
    {
      "cell_type": "code",
      "execution_count": null,
      "metadata": {
        "id": "VoeaOnrxIkbS",
        "outputId": "8d05bd84-64f0-4f6c-9afc-5278f4b17d7e"
      },
      "outputs": [
        {
          "name": "stdout",
          "output_type": "stream",
          "text": [
            "pos    443777\n",
            "neg     82012\n",
            "neu     42638\n",
            "Name: score_bkt, dtype: int64\n",
            "568427\n"
          ]
        }
      ],
      "source": [
        "print(t2[\"score_bkt\"].value_counts())\n",
        "print(t2[\"score_bkt\"].count())"
      ]
    },
    {
      "cell_type": "markdown",
      "metadata": {
        "id": "YjHvaw7_IkbS"
      },
      "source": [
        "To iterate through all words in a sentence corpus and hit against the list of lexicons. \n",
        "Since these are longer sentences we would want to normalize the number of positive and negative hits by number of words in the sentences. \n",
        "After this a simple comparison between the positive, negative and neutral scores is done and the sentences are tagged based on whichever scores are higher"
      ]
    },
    {
      "cell_type": "code",
      "execution_count": null,
      "metadata": {
        "id": "kon4fVIuIkbS"
      },
      "outputs": [],
      "source": [
        "final_tag_list = []\n",
        "pos_percent_list = []\n",
        "neg_percent_list = []\n",
        "pos_set_list = []\n",
        "neg_set_list = []\n",
        "\n",
        "for i,row in t3.iterrows():\n",
        "    \n",
        "    full_txt_set = set(row[\"full_txt\"].split())\n",
        "    sent_len = len(full_txt_set)\n",
        "    \n",
        "    pos_set1 = (full_txt_set) & (pos_set)\n",
        "    neg_set1 = (full_txt_set) & (neg_set)\n",
        "    \n",
        "    com_pos = len(pos_set1)\n",
        "    com_neg = len(neg_set1)\n",
        "    \n",
        "    if(com_pos>0):\n",
        "        pos_percent = com_pos/sent_len\n",
        "    else:\n",
        "        pos_percent = 0\n",
        "\n",
        "    \n",
        "    if(com_neg>0):\n",
        "        neg_percent = com_neg/sent_len\n",
        "    else:\n",
        "        neg_percent =0\n",
        "        \n",
        "    if(pos_percent>0)|(neg_percent>0):\n",
        "        if(pos_percent>neg_percent):\n",
        "            final_tag = \"pos\"\n",
        "        else:\n",
        "            final_tag = \"neg\"\n",
        "    else:\n",
        "        final_tag=\"neu\"\n",
        "    \n",
        "    final_tag_list.append(final_tag)\n",
        "    pos_percent_list.append(pos_percent)\n",
        "    neg_percent_list.append(neg_percent)\n",
        "    pos_set_list.append(pos_set1)\n",
        "    neg_set_list.append(neg_set1)\n"
      ]
    },
    {
      "cell_type": "code",
      "execution_count": null,
      "metadata": {
        "id": "-FQvcp8_IkbS",
        "outputId": "d998d3da-5728-4bb7-e8f9-1d79404de2de"
      },
      "outputs": [
        {
          "data": {
            "text/html": [
              "<div>\n",
              "<style scoped>\n",
              "    .dataframe tbody tr th:only-of-type {\n",
              "        vertical-align: middle;\n",
              "    }\n",
              "\n",
              "    .dataframe tbody tr th {\n",
              "        vertical-align: top;\n",
              "    }\n",
              "\n",
              "    .dataframe thead th {\n",
              "        text-align: right;\n",
              "    }\n",
              "</style>\n",
              "<table border=\"1\" class=\"dataframe\">\n",
              "  <thead>\n",
              "    <tr style=\"text-align: right;\">\n",
              "      <th></th>\n",
              "      <th>Id</th>\n",
              "      <th>ProductId</th>\n",
              "      <th>UserId</th>\n",
              "      <th>ProfileName</th>\n",
              "      <th>HelpfulnessNumerator</th>\n",
              "      <th>HelpfulnessDenominator</th>\n",
              "      <th>Score</th>\n",
              "      <th>Time</th>\n",
              "      <th>Summary</th>\n",
              "      <th>Text</th>\n",
              "      <th>full_txt</th>\n",
              "      <th>sent_len</th>\n",
              "      <th>score_bkt</th>\n",
              "      <th>final_tags</th>\n",
              "      <th>pos_percent</th>\n",
              "      <th>neg_percent</th>\n",
              "      <th>pos_set</th>\n",
              "      <th>neg_set</th>\n",
              "    </tr>\n",
              "  </thead>\n",
              "  <tbody>\n",
              "    <tr>\n",
              "      <th>540018</th>\n",
              "      <td>540019</td>\n",
              "      <td>B0044QC3GU</td>\n",
              "      <td>A2KQTLH648QVGN</td>\n",
              "      <td>Renee</td>\n",
              "      <td>0</td>\n",
              "      <td>0</td>\n",
              "      <td>1</td>\n",
              "      <td>1351036800</td>\n",
              "      <td>Made my yorkie sick</td>\n",
              "      <td>My yorkie ate this dog chew and the next morning she threw up all of the pieces.  Didn't want to eat all day and was sick.  No more of these for her.  Not worth the risk if it were to get stuck in her intestines.  Not worth making her sick.  Would rate \"O\" stars if I could.  These are awful.... not for small dogs at all!!! Great that they are made in the USA but they are not good for small dogs.</td>\n",
              "      <td>made my yorkie sick my yorkie ate this dog chew and the next morning she threw up all of the pieces.  didn't want to eat all day and was sick.  no more of these for her.  not worth the risk if it were to get stuck in her intestines.  not worth making her sick.  would rate \"o\" stars if i could.  these are awful.... not for small dogs at all!!! great that they are made in the usa but they are not good for small dogs.</td>\n",
              "      <td>92.0</td>\n",
              "      <td>neg</td>\n",
              "      <td>neg</td>\n",
              "      <td>0.049180</td>\n",
              "      <td>0.04918</td>\n",
              "      <td>{great, good, worth}</td>\n",
              "      <td>{sick, risk, stuck}</td>\n",
              "    </tr>\n",
              "    <tr>\n",
              "      <th>148398</th>\n",
              "      <td>148399</td>\n",
              "      <td>B003JA5KLM</td>\n",
              "      <td>A2KYHPN1D1AP73</td>\n",
              "      <td>P. Berube</td>\n",
              "      <td>0</td>\n",
              "      <td>0</td>\n",
              "      <td>5</td>\n",
              "      <td>1307923200</td>\n",
              "      <td>Just Right</td>\n",
              "      <td>Nantucket Blend is my favorite. Not too strong yet has that satisfying flavor. I had tasted this blend before so I had a head start on its fine quality.</td>\n",
              "      <td>just right nantucket blend is my favorite. not too strong yet has that satisfying flavor. i had tasted this blend before so i had a head start on its fine quality.</td>\n",
              "      <td>31.0</td>\n",
              "      <td>pos</td>\n",
              "      <td>pos</td>\n",
              "      <td>0.142857</td>\n",
              "      <td>0.00000</td>\n",
              "      <td>{right, strong, fine, satisfying}</td>\n",
              "      <td>{}</td>\n",
              "    </tr>\n",
              "  </tbody>\n",
              "</table>\n",
              "</div>"
            ],
            "text/plain": [
              "            Id   ProductId          UserId ProfileName  HelpfulnessNumerator  \\\n",
              "540018  540019  B0044QC3GU  A2KQTLH648QVGN       Renee                     0   \n",
              "148398  148399  B003JA5KLM  A2KYHPN1D1AP73   P. Berube                     0   \n",
              "\n",
              "        HelpfulnessDenominator  Score        Time              Summary  \\\n",
              "540018                       0      1  1351036800  Made my yorkie sick   \n",
              "148398                       0      5  1307923200           Just Right   \n",
              "\n",
              "                                                                                                                                                                                                                                                                                                                                                                                                                  Text  \\\n",
              "540018  My yorkie ate this dog chew and the next morning she threw up all of the pieces.  Didn't want to eat all day and was sick.  No more of these for her.  Not worth the risk if it were to get stuck in her intestines.  Not worth making her sick.  Would rate \"O\" stars if I could.  These are awful.... not for small dogs at all!!! Great that they are made in the USA but they are not good for small dogs.   \n",
              "148398                                                                                                                                                                                                                                                        Nantucket Blend is my favorite. Not too strong yet has that satisfying flavor. I had tasted this blend before so I had a head start on its fine quality.   \n",
              "\n",
              "                                                                                                                                                                                                                                                                                                                                                                                                                                  full_txt  \\\n",
              "540018  made my yorkie sick my yorkie ate this dog chew and the next morning she threw up all of the pieces.  didn't want to eat all day and was sick.  no more of these for her.  not worth the risk if it were to get stuck in her intestines.  not worth making her sick.  would rate \"o\" stars if i could.  these are awful.... not for small dogs at all!!! great that they are made in the usa but they are not good for small dogs.   \n",
              "148398                                                                                                                                                                                                                                                                 just right nantucket blend is my favorite. not too strong yet has that satisfying flavor. i had tasted this blend before so i had a head start on its fine quality.   \n",
              "\n",
              "        sent_len score_bkt final_tags  pos_percent  neg_percent  \\\n",
              "540018      92.0       neg        neg     0.049180      0.04918   \n",
              "148398      31.0       pos        pos     0.142857      0.00000   \n",
              "\n",
              "                                  pos_set              neg_set  \n",
              "540018               {great, good, worth}  {sick, risk, stuck}  \n",
              "148398  {right, strong, fine, satisfying}                   {}  "
            ]
          },
          "execution_count": 37,
          "metadata": {},
          "output_type": "execute_result"
        }
      ],
      "source": [
        "t3.head(2)"
      ]
    },
    {
      "cell_type": "code",
      "execution_count": null,
      "metadata": {
        "id": "R3mdspgHIkbS"
      },
      "outputs": [],
      "source": [
        "t3[\"final_tags\"] = final_tag_list\n",
        "t3[\"pos_percent\"] = pos_percent_list\n",
        "t3[\"neg_percent\"] = neg_percent_list\n",
        "\n",
        "t3[\"pos_set\"] = pos_set_list\n",
        "t3[\"neg_set\"] = neg_set_list"
      ]
    },
    {
      "cell_type": "code",
      "execution_count": null,
      "metadata": {
        "id": "IKhsdv7XIkbT",
        "outputId": "78f24de6-5eb2-47a0-bfae-9d6409363d07"
      },
      "outputs": [
        {
          "name": "stdout",
          "output_type": "stream",
          "text": [
            "<class 'pandas.core.frame.DataFrame'>\n",
            "Int64Index: 56843 entries, 540018 to 310220\n",
            "Data columns (total 18 columns):\n",
            " #   Column                  Non-Null Count  Dtype  \n",
            "---  ------                  --------------  -----  \n",
            " 0   Id                      56843 non-null  int64  \n",
            " 1   ProductId               56843 non-null  object \n",
            " 2   UserId                  56843 non-null  object \n",
            " 3   ProfileName             56841 non-null  object \n",
            " 4   HelpfulnessNumerator    56843 non-null  int64  \n",
            " 5   HelpfulnessDenominator  56843 non-null  int64  \n",
            " 6   Score                   56843 non-null  int64  \n",
            " 7   Time                    56843 non-null  int64  \n",
            " 8   Summary                 56843 non-null  object \n",
            " 9   Text                    56843 non-null  object \n",
            " 10  full_txt                56843 non-null  object \n",
            " 11  sent_len                56843 non-null  float64\n",
            " 12  score_bkt               56843 non-null  object \n",
            " 13  final_tags              56843 non-null  object \n",
            " 14  pos_percent             56843 non-null  float64\n",
            " 15  neg_percent             56843 non-null  float64\n",
            " 16  pos_set                 56843 non-null  object \n",
            " 17  neg_set                 56843 non-null  object \n",
            "dtypes: float64(3), int64(5), object(10)\n",
            "memory usage: 8.2+ MB\n"
          ]
        }
      ],
      "source": [
        "t3.info()"
      ]
    },
    {
      "cell_type": "code",
      "execution_count": null,
      "metadata": {
        "id": "PchTVehHIkbT",
        "outputId": "60439b49-963a-46fb-9858-4bd25cc712a9"
      },
      "outputs": [
        {
          "name": "stdout",
          "output_type": "stream",
          "text": [
            "0.7632074309941418\n"
          ]
        }
      ],
      "source": [
        "from sklearn.metrics import accuracy_score\n",
        "print (accuracy_score(t3[\"score_bkt\"],t3[\"final_tags\"]))"
      ]
    },
    {
      "cell_type": "code",
      "execution_count": null,
      "metadata": {
        "id": "TbEAPXRsIkbT",
        "outputId": "d0df4e2a-5843-4913-b6c0-89c49706f931"
      },
      "outputs": [
        {
          "data": {
            "text/plain": [
              "0.4562289613757912"
            ]
          },
          "execution_count": 15,
          "metadata": {},
          "output_type": "execute_result"
        }
      ],
      "source": [
        "from sklearn.metrics import f1_score\n",
        "f1_score(t3[\"score_bkt\"],t3[\"final_tags\"], average='macro')  "
      ]
    },
    {
      "cell_type": "code",
      "execution_count": null,
      "metadata": {
        "id": "o9KEetW5IkbT",
        "outputId": "69c500b6-e19a-4240-a03e-5cbe2412a778"
      },
      "outputs": [
        {
          "data": {
            "text/html": [
              "<div>\n",
              "<style scoped>\n",
              "    .dataframe tbody tr th:only-of-type {\n",
              "        vertical-align: middle;\n",
              "    }\n",
              "\n",
              "    .dataframe tbody tr th {\n",
              "        vertical-align: top;\n",
              "    }\n",
              "\n",
              "    .dataframe thead th {\n",
              "        text-align: right;\n",
              "    }\n",
              "</style>\n",
              "<table border=\"1\" class=\"dataframe\">\n",
              "  <thead>\n",
              "    <tr style=\"text-align: right;\">\n",
              "      <th></th>\n",
              "      <th>pos</th>\n",
              "      <th>neg</th>\n",
              "      <th>neu</th>\n",
              "      <th>act</th>\n",
              "    </tr>\n",
              "  </thead>\n",
              "  <tbody>\n",
              "    <tr>\n",
              "      <th>0</th>\n",
              "      <td>38881</td>\n",
              "      <td>4934</td>\n",
              "      <td>531</td>\n",
              "      <td>pos</td>\n",
              "    </tr>\n",
              "    <tr>\n",
              "      <th>1</th>\n",
              "      <td>3670</td>\n",
              "      <td>4236</td>\n",
              "      <td>294</td>\n",
              "      <td>neg</td>\n",
              "    </tr>\n",
              "    <tr>\n",
              "      <th>2</th>\n",
              "      <td>3023</td>\n",
              "      <td>1138</td>\n",
              "      <td>136</td>\n",
              "      <td>neu</td>\n",
              "    </tr>\n",
              "  </tbody>\n",
              "</table>\n",
              "</div>"
            ],
            "text/plain": [
              "     pos   neg  neu  act\n",
              "0  38881  4934  531  pos\n",
              "1   3670  4236  294  neg\n",
              "2   3023  1138  136  neu"
            ]
          },
          "execution_count": 36,
          "metadata": {},
          "output_type": "execute_result"
        }
      ],
      "source": [
        "rows_name = t3[\"score_bkt\"].unique()\n",
        "\n",
        "from sklearn.metrics import confusion_matrix\n",
        "cmat = pd.DataFrame(confusion_matrix(t3[\"score_bkt\"],t3[\"final_tags\"], labels=rows_name, sample_weight=None))\n",
        "cmat.columns = rows_name \n",
        "cmat[\"act\"] = rows_name\n",
        "cmat"
      ]
    },
    {
      "cell_type": "code",
      "execution_count": null,
      "metadata": {
        "id": "JjepSiH9IkbT"
      },
      "outputs": [],
      "source": [
        "##we first investigate the errors by comparing the predicted sentiment and the actual tags"
      ]
    },
    {
      "cell_type": "code",
      "execution_count": null,
      "metadata": {
        "id": "F-y7_gCPIkbU",
        "outputId": "a26f8537-7f43-48ac-a32d-8d5c83e3dd3b"
      },
      "outputs": [
        {
          "data": {
            "text/html": [
              "<div>\n",
              "<style scoped>\n",
              "    .dataframe tbody tr th:only-of-type {\n",
              "        vertical-align: middle;\n",
              "    }\n",
              "\n",
              "    .dataframe tbody tr th {\n",
              "        vertical-align: top;\n",
              "    }\n",
              "\n",
              "    .dataframe thead th {\n",
              "        text-align: right;\n",
              "    }\n",
              "</style>\n",
              "<table border=\"1\" class=\"dataframe\">\n",
              "  <thead>\n",
              "    <tr style=\"text-align: right;\">\n",
              "      <th></th>\n",
              "      <th>Summary</th>\n",
              "      <th>full_txt</th>\n",
              "      <th>final_tags</th>\n",
              "      <th>score_bkt</th>\n",
              "      <th>pos_percent</th>\n",
              "      <th>neg_percent</th>\n",
              "      <th>pos_set</th>\n",
              "      <th>neg_set</th>\n",
              "    </tr>\n",
              "  </thead>\n",
              "  <tbody>\n",
              "    <tr>\n",
              "      <th>229451</th>\n",
              "      <td>Yuck!</td>\n",
              "      <td>yuck! first 3 ingredients : soybean oil, water, high fructose corn syrup.&lt;br /&gt;&lt;br /&gt;you think that sounds bad? it tastes even worse.</td>\n",
              "      <td>neu</td>\n",
              "      <td>neg</td>\n",
              "      <td>0.000000</td>\n",
              "      <td>0.000000</td>\n",
              "      <td>{}</td>\n",
              "      <td>{}</td>\n",
              "    </tr>\n",
              "    <tr>\n",
              "      <th>202204</th>\n",
              "      <td>I Love the white cheez-it</td>\n",
              "      <td>i love the white cheez-it i love the white cheez-it&lt;br /&gt;but was disappointed to find the packages were only 1.5oz instead of the 2.03oz that amazon advertised them as. dont know how they managed to flub it up, it states right on the box 1.5oz.</td>\n",
              "      <td>pos</td>\n",
              "      <td>neu</td>\n",
              "      <td>0.055556</td>\n",
              "      <td>0.027778</td>\n",
              "      <td>{right, love}</td>\n",
              "      <td>{disappointed}</td>\n",
              "    </tr>\n",
              "    <tr>\n",
              "      <th>253369</th>\n",
              "      <td>A different touch to my Taco</td>\n",
              "      <td>a different touch to my taco my wife makes tacos about once a week and i have almost always used a typical red sauce type taco sauce (usually ortega or even sometimes the taco bell one if we can find it).  i received a bottle of the taco bell jalapeno sauce to try which i figured would spruce up my weekly taco intake.  i added a touch to my tacos just in case i didn't like it.  overall, it adds a bit of creaminess to the taco and had a very nice taste.  it is not hot for a jalapeno sauce.  i ended up making nachos the next day with some of the leftover taco beef i had and added the sauce to the mix before i cooked them.  i did not like the way they came out.  this sauce is definitely better as an add on rather than something to cook with.&lt;br /&gt;&lt;br /&gt;it's an ok sauce (hence my star rating) but i won't be using this as my regular taco sauce as i still prefer the red typical sauce i had been using.  this will be used to change things up a bit when i am tired of eating my usual taco.  ...</td>\n",
              "      <td>pos</td>\n",
              "      <td>neu</td>\n",
              "      <td>0.038462</td>\n",
              "      <td>0.007692</td>\n",
              "      <td>{better, like, prefer, hot, nice}</td>\n",
              "      <td>{tired}</td>\n",
              "    </tr>\n",
              "    <tr>\n",
              "      <th>474869</th>\n",
              "      <td>Softer, smoother skin</td>\n",
              "      <td>softer, smoother skin after recently having a professional facial, i have been interested in finding an otc enzyme mask for use at home that isn't as expensive as the $60/jar product the facial was selling.&lt;br /&gt;&lt;br /&gt;the scent of this product is quite lovely.  after 3 uses i can feel a slight difference in my skin.  the only reason i did not give it a full 5 stars is that i wish it were stronger!</td>\n",
              "      <td>neg</td>\n",
              "      <td>pos</td>\n",
              "      <td>0.016393</td>\n",
              "      <td>0.016393</td>\n",
              "      <td>{smoother}</td>\n",
              "      <td>{expensive}</td>\n",
              "    </tr>\n",
              "    <tr>\n",
              "      <th>197496</th>\n",
              "      <td>The only toy my dog can't destroy</td>\n",
              "      <td>the only toy my dog can't destroy this is one of the only dog products that my rat terrier mix can't completely destroy.  stuffed animals are gutted within seconds. hard rubber toys are a 30 second challenge.  but the bouncy bone? he loves these. he can't destroy it and he chews on the ends even when the gnawhide rings aren't on the bone.  he's gone through a couple of them already and still loves them.  regular dog toys don't come close to holding up for him, but this one seems to keep him entertained and curtails any nibbling on other household items.</td>\n",
              "      <td>neg</td>\n",
              "      <td>pos</td>\n",
              "      <td>0.013333</td>\n",
              "      <td>0.026667</td>\n",
              "      <td>{loves}</td>\n",
              "      <td>{destroy, hard}</td>\n",
              "    </tr>\n",
              "    <tr>\n",
              "      <th>...</th>\n",
              "      <td>...</td>\n",
              "      <td>...</td>\n",
              "      <td>...</td>\n",
              "      <td>...</td>\n",
              "      <td>...</td>\n",
              "      <td>...</td>\n",
              "      <td>...</td>\n",
              "      <td>...</td>\n",
              "    </tr>\n",
              "    <tr>\n",
              "      <th>406456</th>\n",
              "      <td>Wow- my dog eats this</td>\n",
              "      <td>wow- my dog eats this i have never reviewed anything before - but - my dog will not eat dog food - i have tried everything - of course there is a long story about why he won't - but the fact is i cannot get him to eat dog food anymore.  this however - he eats immediately when i put it down for him.  i doubt it is the healthiest thing you can buy for your dog but it beats human food for sure which was my only option.  if you have a picky eater for a dog - this is definitely worth a try!!!</td>\n",
              "      <td>neg</td>\n",
              "      <td>pos</td>\n",
              "      <td>0.015385</td>\n",
              "      <td>0.030769</td>\n",
              "      <td>{worth}</td>\n",
              "      <td>{picky, doubt}</td>\n",
              "    </tr>\n",
              "    <tr>\n",
              "      <th>208515</th>\n",
              "      <td>Perfect for use while training your dog</td>\n",
              "      <td>perfect for use while training your dog the lickety stik is fabulous!  my dog immediately took to it and gets so excited when he sees the bottle.  i have been trying to train him to fetch a ball and then give it back to me, but i have had to wrestle the ball away from him.  i was worried about giving him too many treats because of calories, not to mention the expense.  i started letting him lick the stik once or twice each time i got the ball away from him.  it didn't take long before he would drop the ball when he saw the stik, and now he puts it directly into my hand, just so he can lick the stik. i plan on using it to train him to do other things, as well.&lt;br /&gt;&lt;br /&gt;considering how many times i have used it, it is a good value for the money.  it's kind of awkward to give him as a regular dog treat, so i save it for training and give him dog biscuits or other treat.</td>\n",
              "      <td>neg</td>\n",
              "      <td>pos</td>\n",
              "      <td>0.028037</td>\n",
              "      <td>0.028037</td>\n",
              "      <td>{excited, perfect, good}</td>\n",
              "      <td>{wrestle, worried, awkward}</td>\n",
              "    </tr>\n",
              "    <tr>\n",
              "      <th>391014</th>\n",
              "      <td>Perfect taste but texture  was pretty bad</td>\n",
              "      <td>perfect taste but texture  was pretty bad i was really disappointed with this mix. while mixing it, the consistency was just right, and the taste was perfect, there was a hint of maple. i added a little vanilla and i was so excited about the taste. after i made them, my mom tried one before i did and she spat it out and told me it still wasn't cooked all the way in the center.. so i tried one and found the same issue. then the next batch, i left on until they were more golden brown and crispier, and they were still very dough-y in the center. it was like eating raw dough. the only thing i really liked was the flavor, with maple syrup it was wonderful, because i made myself eat them not wanting to waste money.&lt;br /&gt;&lt;br /&gt;i usually love king arthur gf flour-i think it's amazing. i use it to bake a lot of regular things and substitute it for regular flour, but this pancake mix was a real letdown.&lt;br /&gt;&lt;br /&gt;i hope others have more luck than i did.</td>\n",
              "      <td>pos</td>\n",
              "      <td>neg</td>\n",
              "      <td>0.065041</td>\n",
              "      <td>0.024390</td>\n",
              "      <td>{love, golden, excited, like, perfect, liked, luck, pretty}</td>\n",
              "      <td>{disappointed, waste, bad}</td>\n",
              "    </tr>\n",
              "    <tr>\n",
              "      <th>568069</th>\n",
              "      <td>Thumbs down for the new ingredient</td>\n",
              "      <td>thumbs down for the new ingredient i was a big fan of this product since it was the only baby food that contained salmon until the ingredient was changed. the decrease in the protein content from 4g (old) to 1g (new) makes me wonder how much salmon is actually in this pouch. i can even tell from the smell of the new version which doesn't smell like fish at all that there is very little salmon in it. also, the new version added apples and increased the sugar content from 0g(old) to 3g(new) which i am not happy about.&lt;br /&gt;my son still loves this pouch, but i purchased this product for nutritious reasons - very disappointed with the change!</td>\n",
              "      <td>pos</td>\n",
              "      <td>neu</td>\n",
              "      <td>0.048780</td>\n",
              "      <td>0.024390</td>\n",
              "      <td>{like, happy, loves, wonder}</td>\n",
              "      <td>{disappointed, smell}</td>\n",
              "    </tr>\n",
              "    <tr>\n",
              "      <th>310220</th>\n",
              "      <td>Not the best Snyder's of Hanover Pretzels</td>\n",
              "      <td>not the best snyder's of hanover pretzels snyder's of hanover makes good pretzels (honey mustard &amp; onion is my favorite), but these are just not appetizing at all.  \"hot buffalo wing\" gets its kick from dried cayenne pepper sauce.  so if you are a fan of peppers you might like this pretzel.  they are nowhere near as good as honey mustard in my opinion, though they aren't as bad as just cheddar cheese.  hot buffalo seems to be enhanced by eating them with other food, in my case, chocolate m&amp;m's.  if you like a spicy zing, try these pretzels, they are not horrible.  if you like sweetness just stick to honey mustard &amp; onion.  nutrition-wise, are not the best as they contain msg and caramel color.  also, if you consumed an entire 10 oz. bag in one sitting, you would be consuming 1400 calories.  i guess their good if you are trying to gain weight like i am trying to do.  otherwise stick to the healthier counterpart of the unflavored ones.</td>\n",
              "      <td>pos</td>\n",
              "      <td>neg</td>\n",
              "      <td>0.063636</td>\n",
              "      <td>0.009091</td>\n",
              "      <td>{enhanced, gain, best, like, good, hot, sweetness}</td>\n",
              "      <td>{bad}</td>\n",
              "    </tr>\n",
              "  </tbody>\n",
              "</table>\n",
              "<p>13460 rows × 8 columns</p>\n",
              "</div>"
            ],
            "text/plain": [
              "                                          Summary  \\\n",
              "229451                                      Yuck!   \n",
              "202204                  I Love the white cheez-it   \n",
              "253369               A different touch to my Taco   \n",
              "474869                      Softer, smoother skin   \n",
              "197496          The only toy my dog can't destroy   \n",
              "...                                           ...   \n",
              "406456                      Wow- my dog eats this   \n",
              "208515    Perfect for use while training your dog   \n",
              "391014  Perfect taste but texture  was pretty bad   \n",
              "568069         Thumbs down for the new ingredient   \n",
              "310220  Not the best Snyder's of Hanover Pretzels   \n",
              "\n",
              "                                                                                                                                                                                                                                                                                                                                                                                                                                                                                                                                                                                                                                                                                                                                                                                                                                                                                                                                                                                                                                       full_txt  \\\n",
              "229451                                                                                                                                                                                                                                                                                                                                                                                                                                                                                                                                                                                                                                                                                                                                                                                                                                                                                                    yuck! first 3 ingredients : soybean oil, water, high fructose corn syrup.<br /><br />you think that sounds bad? it tastes even worse.   \n",
              "202204                                                                                                                                                                                                                                                                                                                                                                                                                                                                                                                                                                                                                                                                                                                                                                                     i love the white cheez-it i love the white cheez-it<br />but was disappointed to find the packages were only 1.5oz instead of the 2.03oz that amazon advertised them as. dont know how they managed to flub it up, it states right on the box 1.5oz.   \n",
              "253369  a different touch to my taco my wife makes tacos about once a week and i have almost always used a typical red sauce type taco sauce (usually ortega or even sometimes the taco bell one if we can find it).  i received a bottle of the taco bell jalapeno sauce to try which i figured would spruce up my weekly taco intake.  i added a touch to my tacos just in case i didn't like it.  overall, it adds a bit of creaminess to the taco and had a very nice taste.  it is not hot for a jalapeno sauce.  i ended up making nachos the next day with some of the leftover taco beef i had and added the sauce to the mix before i cooked them.  i did not like the way they came out.  this sauce is definitely better as an add on rather than something to cook with.<br /><br />it's an ok sauce (hence my star rating) but i won't be using this as my regular taco sauce as i still prefer the red typical sauce i had been using.  this will be used to change things up a bit when i am tired of eating my usual taco.  ...   \n",
              "474869                                                                                                                                                                                                                                                                                                                                                                                                                                                                                                                                                                                                                         softer, smoother skin after recently having a professional facial, i have been interested in finding an otc enzyme mask for use at home that isn't as expensive as the $60/jar product the facial was selling.<br /><br />the scent of this product is quite lovely.  after 3 uses i can feel a slight difference in my skin.  the only reason i did not give it a full 5 stars is that i wish it were stronger!   \n",
              "197496                                                                                                                                                                                                                                                                                                                                                                                                                                                          the only toy my dog can't destroy this is one of the only dog products that my rat terrier mix can't completely destroy.  stuffed animals are gutted within seconds. hard rubber toys are a 30 second challenge.  but the bouncy bone? he loves these. he can't destroy it and he chews on the ends even when the gnawhide rings aren't on the bone.  he's gone through a couple of them already and still loves them.  regular dog toys don't come close to holding up for him, but this one seems to keep him entertained and curtails any nibbling on other household items.   \n",
              "...                                                                                                                                                                                                                                                                                                                                                                                                                                                                                                                                                                                                                                                                                                                                                                                                                                                                                                                                                                                                                                         ...   \n",
              "406456                                                                                                                                                                                                                                                                                                                                                                                                                                                                                                                             wow- my dog eats this i have never reviewed anything before - but - my dog will not eat dog food - i have tried everything - of course there is a long story about why he won't - but the fact is i cannot get him to eat dog food anymore.  this however - he eats immediately when i put it down for him.  i doubt it is the healthiest thing you can buy for your dog but it beats human food for sure which was my only option.  if you have a picky eater for a dog - this is definitely worth a try!!!   \n",
              "208515                                                                                                                        perfect for use while training your dog the lickety stik is fabulous!  my dog immediately took to it and gets so excited when he sees the bottle.  i have been trying to train him to fetch a ball and then give it back to me, but i have had to wrestle the ball away from him.  i was worried about giving him too many treats because of calories, not to mention the expense.  i started letting him lick the stik once or twice each time i got the ball away from him.  it didn't take long before he would drop the ball when he saw the stik, and now he puts it directly into my hand, just so he can lick the stik. i plan on using it to train him to do other things, as well.<br /><br />considering how many times i have used it, it is a good value for the money.  it's kind of awkward to give him as a regular dog treat, so i save it for training and give him dog biscuits or other treat.   \n",
              "391014                                           perfect taste but texture  was pretty bad i was really disappointed with this mix. while mixing it, the consistency was just right, and the taste was perfect, there was a hint of maple. i added a little vanilla and i was so excited about the taste. after i made them, my mom tried one before i did and she spat it out and told me it still wasn't cooked all the way in the center.. so i tried one and found the same issue. then the next batch, i left on until they were more golden brown and crispier, and they were still very dough-y in the center. it was like eating raw dough. the only thing i really liked was the flavor, with maple syrup it was wonderful, because i made myself eat them not wanting to waste money.<br /><br />i usually love king arthur gf flour-i think it's amazing. i use it to bake a lot of regular things and substitute it for regular flour, but this pancake mix was a real letdown.<br /><br />i hope others have more luck than i did.   \n",
              "568069                                                                                                                                                                                                                                                                                                                                                                   thumbs down for the new ingredient i was a big fan of this product since it was the only baby food that contained salmon until the ingredient was changed. the decrease in the protein content from 4g (old) to 1g (new) makes me wonder how much salmon is actually in this pouch. i can even tell from the smell of the new version which doesn't smell like fish at all that there is very little salmon in it. also, the new version added apples and increased the sugar content from 0g(old) to 3g(new) which i am not happy about.<br />my son still loves this pouch, but i purchased this product for nutritious reasons - very disappointed with the change!   \n",
              "310220                                                      not the best snyder's of hanover pretzels snyder's of hanover makes good pretzels (honey mustard & onion is my favorite), but these are just not appetizing at all.  \"hot buffalo wing\" gets its kick from dried cayenne pepper sauce.  so if you are a fan of peppers you might like this pretzel.  they are nowhere near as good as honey mustard in my opinion, though they aren't as bad as just cheddar cheese.  hot buffalo seems to be enhanced by eating them with other food, in my case, chocolate m&m's.  if you like a spicy zing, try these pretzels, they are not horrible.  if you like sweetness just stick to honey mustard & onion.  nutrition-wise, are not the best as they contain msg and caramel color.  also, if you consumed an entire 10 oz. bag in one sitting, you would be consuming 1400 calories.  i guess their good if you are trying to gain weight like i am trying to do.  otherwise stick to the healthier counterpart of the unflavored ones.   \n",
              "\n",
              "       final_tags score_bkt  pos_percent  neg_percent  \\\n",
              "229451        neu       neg     0.000000     0.000000   \n",
              "202204        pos       neu     0.055556     0.027778   \n",
              "253369        pos       neu     0.038462     0.007692   \n",
              "474869        neg       pos     0.016393     0.016393   \n",
              "197496        neg       pos     0.013333     0.026667   \n",
              "...           ...       ...          ...          ...   \n",
              "406456        neg       pos     0.015385     0.030769   \n",
              "208515        neg       pos     0.028037     0.028037   \n",
              "391014        pos       neg     0.065041     0.024390   \n",
              "568069        pos       neu     0.048780     0.024390   \n",
              "310220        pos       neg     0.063636     0.009091   \n",
              "\n",
              "                                                            pos_set  \\\n",
              "229451                                                           {}   \n",
              "202204                                                {right, love}   \n",
              "253369                            {better, like, prefer, hot, nice}   \n",
              "474869                                                   {smoother}   \n",
              "197496                                                      {loves}   \n",
              "...                                                             ...   \n",
              "406456                                                      {worth}   \n",
              "208515                                     {excited, perfect, good}   \n",
              "391014  {love, golden, excited, like, perfect, liked, luck, pretty}   \n",
              "568069                                 {like, happy, loves, wonder}   \n",
              "310220           {enhanced, gain, best, like, good, hot, sweetness}   \n",
              "\n",
              "                            neg_set  \n",
              "229451                           {}  \n",
              "202204               {disappointed}  \n",
              "253369                      {tired}  \n",
              "474869                  {expensive}  \n",
              "197496              {destroy, hard}  \n",
              "...                             ...  \n",
              "406456               {picky, doubt}  \n",
              "208515  {wrestle, worried, awkward}  \n",
              "391014   {disappointed, waste, bad}  \n",
              "568069        {disappointed, smell}  \n",
              "310220                        {bad}  \n",
              "\n",
              "[13460 rows x 8 columns]"
            ]
          },
          "execution_count": 16,
          "metadata": {},
          "output_type": "execute_result"
        }
      ],
      "source": [
        "pd.options.display.max_colwidth=1000\n",
        "t3.loc[t3.score_bkt!=t3.final_tags,[\"Summary\",\"full_txt\",\"final_tags\",\"score_bkt\",\"pos_percent\",\"neg_percent\",\"pos_set\",\"neg_set\"]]"
      ]
    },
    {
      "cell_type": "code",
      "execution_count": null,
      "metadata": {
        "id": "knfRjlnnIkbU"
      },
      "outputs": [],
      "source": [
        "### Accuracy without neutral to understand performance better"
      ]
    },
    {
      "cell_type": "code",
      "execution_count": null,
      "metadata": {
        "id": "LY3G47fAIkbU",
        "outputId": "18fa0c49-6478-412b-fd70-99947fc6a268"
      },
      "outputs": [
        {
          "name": "stdout",
          "output_type": "stream",
          "text": [
            "0.8369277189996325\n",
            "0.7007021313128642\n"
          ]
        }
      ],
      "source": [
        "t4 = t3.loc[(t3.score_bkt!=\"neu\") & (t3.final_tags!=\"neu\")].reset_index()\n",
        "print (accuracy_score(t4[\"score_bkt\"],t4[\"final_tags\"]))\n",
        "print (f1_score(t4[\"score_bkt\"],t4[\"final_tags\"],average='macro'))"
      ]
    },
    {
      "cell_type": "code",
      "execution_count": null,
      "metadata": {
        "id": "rwWeIHjbIkbU"
      },
      "outputs": [],
      "source": [
        ""
      ]
    }
  ],
  "metadata": {
    "kernelspec": {
      "display_name": "Python 3",
      "language": "python",
      "name": "python3"
    },
    "language_info": {
      "codemirror_mode": {
        "name": "ipython",
        "version": 3
      },
      "file_extension": ".py",
      "mimetype": "text/x-python",
      "name": "python",
      "nbconvert_exporter": "python",
      "pygments_lexer": "ipython3",
      "version": "3.8.0"
    },
    "colab": {
      "name": "Lexicon based Sentiment Analysis.ipynb",
      "provenance": []
    }
  },
  "nbformat": 4,
  "nbformat_minor": 0
}